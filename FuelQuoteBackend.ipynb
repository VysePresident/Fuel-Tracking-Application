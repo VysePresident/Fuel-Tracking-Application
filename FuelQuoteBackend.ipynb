{
  "nbformat": 4,
  "nbformat_minor": 0,
  "metadata": {
    "colab": {
      "provenance": [],
      "collapsed_sections": [
        "gJQ6vgjsDKs7"
      ],
      "authorship_tag": "ABX9TyPw5a1XOCL+xuW3OsoOW0po",
      "include_colab_link": true
    },
    "kernelspec": {
      "name": "python3",
      "display_name": "Python 3"
    },
    "language_info": {
      "name": "python"
    }
  },
  "cells": [
    {
      "cell_type": "markdown",
      "metadata": {
        "id": "view-in-github",
        "colab_type": "text"
      },
      "source": [
        "<a href=\"https://colab.research.google.com/github/VysePresident/Fuel-Tracking-Application/blob/AIB_fuelQuoteForm/FuelQuoteBackend.ipynb\" target=\"_parent\"><img src=\"https://colab.research.google.com/assets/colab-badge.svg\" alt=\"Open In Colab\"/></a>"
      ]
    },
    {
      "cell_type": "markdown",
      "source": [
        "# Fuel Quote Class"
      ],
      "metadata": {
        "id": "LO79CtqtD8jN"
      }
    },
    {
      "cell_type": "code",
      "source": [
        "import sqlite3\n",
        "import re\n",
        "\n",
        "# FuelQuote class\n",
        "class FuelQuote:\n",
        "    def __init__(self, db_name='fuel_quotes.db'):\n",
        "        self.db_name = db_name\n",
        "        self.create_table()\n",
        "\n",
        "    # Create fuel_quotes table in the database\n",
        "    def create_table(self):\n",
        "        with sqlite3.connect(self.db_name) as connection:\n",
        "            cursor = connection.cursor()\n",
        "            cursor.execute('''CREATE TABLE IF NOT EXISTS fuel_quotes\n",
        "                              (id INTEGER PRIMARY KEY AUTOINCREMENT,\n",
        "                              company_name TEXT NOT NULL,\n",
        "                              state TEXT NOT NULL,\n",
        "                              city TEXT NOT NULL,\n",
        "                              address TEXT NOT NULL)''')\n",
        "\n",
        "    # Add a fuel quote to the database\n",
        "    def add_quote(self, company_name, state, city, address):\n",
        "        with sqlite3.connect(self.db_name) as connection:\n",
        "            cursor = connection.cursor()\n",
        "            cursor.execute('''INSERT INTO fuel_quotes (company_name, state, city, address)\n",
        "                              VALUES (?, ?, ?, ?)''', (company_name, state, city, address))\n",
        "            connection.commit()\n",
        "\n",
        "    # Get all fuel quotes from the database\n",
        "    def get_all_quotes(self):\n",
        "        with sqlite3.connect(self.db_name) as connection:\n",
        "            cursor = connection.cursor()\n",
        "            cursor.execute('''SELECT * FROM fuel_quotes''')\n",
        "            return cursor.fetchall()\n",
        "\n",
        "    # Validate state input\n",
        "    def is_valid_state(self, state):\n",
        "        state_pattern = r'^[A-Za-z]{2}$'\n",
        "        return re.match(state_pattern, state)\n",
        "\n",
        "    # Validate city input\n",
        "    def is_valid_city(self, city):\n",
        "        city_pattern = r'^[A-Za-z\\s\\-]+$'\n",
        "        return re.match(city_pattern, city)\n",
        "\n",
        "    # Validate address input\n",
        "    def is_valid_address(self, address):\n",
        "        address_pattern = r'^[\\d\\s\\w,.\\-]+$'\n",
        "        return re.match(address_pattern, address)\n",
        "\n",
        "if __name__ == '__main__':\n",
        "    fuel_quote = FuelQuote()\n",
        "\n",
        "    # Example usage:\n",
        "    company_name = input(\"Enter company name: \")\n",
        "\n",
        "    # Validate state input\n",
        "    while True:\n",
        "        state = input(\"Enter state: \")\n",
        "        if fuel_quote.is_valid_state(state):\n",
        "            break\n",
        "        print(\"Invalid state. Please enter a valid 2-letter state abbreviation.\")\n",
        "\n",
        "    # Validate city input\n",
        "    while True:\n",
        "        city = input(\"Enter city: \")\n",
        "        if fuel_quote.is_valid_city(city):\n",
        "            break\n",
        "        print(\"Invalid city. Please enter a valid city name.\")\n",
        "\n",
        "    # Validate address input\n",
        "    while True:\n",
        "        address = input(\"Enter address: \")\n",
        "        if fuel_quote.is_valid_address(address):\n",
        "            break\n",
        "        print(\"Invalid address. Please enter a valid address.\")\n",
        "\n",
        "    fuel_quote.add_quote(company_name, state, city, address)\n",
        "\n",
        "    print(\"All fuel quotes in the database:\")\n",
        "    for quote in fuel_quote.get_all_quotes():\n",
        "        print(quote)\n"
      ],
      "metadata": {
        "colab": {
          "base_uri": "https://localhost:8080/"
        },
        "id": "NWZkIhFsEDx4",
        "outputId": "dc5ba800-e5be-4dbb-8f82-90551d2a7d7e"
      },
      "execution_count": 8,
      "outputs": [
        {
          "output_type": "stream",
          "name": "stdout",
          "text": [
            "Enter company name: Alliance Fuel Oil Co\n",
            "Enter state: MD\n",
            "Enter city: Baltimore\n",
            "Enter address: Alliance Fuel Oil Co, 2700 Loch Raven Rd, Baltimore, MD 21218\n",
            "All fuel quotes in the database:\n",
            "(1, 'Jason Mullen Inc', 'Maryland', 'Baltimore', '1101 Russell St, Baltimore, MD 21230')\n",
            "(2, 'vvv', 'dvfdv', 'zvfdf', 'dsbzb')\n",
            "(3, 'J J Adams Fuel Oil Co', 'MD', 'gsdbdb', '2113 W Lafayette Ave, Baltimore, MD 21217')\n",
            "(4, 'Alliance Fuel Oil Co', 'MD', 'Baltimore', 'Alliance Fuel Oil Co, 2700 Loch Raven Rd, Baltimore, MD 21218')\n"
          ]
        }
      ]
    },
    {
      "cell_type": "markdown",
      "source": [
        "# Order class"
      ],
      "metadata": {
        "id": "o9BKq2WGD92d"
      }
    },
    {
      "cell_type": "code",
      "source": [
        "import sqlite3\n",
        "import re\n",
        "\n",
        "class Order:\n",
        "    def __init__(self, db_name='orders.db'):\n",
        "        self.db_name = db_name\n",
        "        self.create_table()\n",
        "\n",
        "    def create_table(self):\n",
        "        with sqlite3.connect(self.db_name) as connection:\n",
        "            cursor = connection.cursor()\n",
        "            cursor.execute('''CREATE TABLE IF NOT EXISTS orders\n",
        "                              (id INTEGER PRIMARY KEY AUTOINCREMENT,\n",
        "                              fuel_type TEXT NOT NULL,\n",
        "                              gallons REAL NOT NULL,\n",
        "                              first_name TEXT NOT NULL,\n",
        "                              last_name TEXT NOT NULL,\n",
        "                              email TEXT NOT NULL,\n",
        "                              phone TEXT NOT NULL,\n",
        "                              payment_type TEXT NOT NULL)''')\n",
        "\n",
        "    def add_order(self, fuel_type, gallons, first_name, last_name, email, phone, payment_type):\n",
        "        with sqlite3.connect(self.db_name) as connection:\n",
        "            cursor = connection.cursor()\n",
        "            cursor.execute('''INSERT INTO orders (fuel_type, gallons, first_name, last_name, email, phone, payment_type)\n",
        "                              VALUES (?, ?, ?, ?, ?, ?, ?)''', (fuel_type, gallons, first_name, last_name, email, phone, payment_type))\n",
        "            connection.commit()\n",
        "\n",
        "    def get_all_orders(self):\n",
        "        with sqlite3.connect(self.db_name) as connection:\n",
        "            cursor = connection.cursor()\n",
        "            cursor.execute('''SELECT * FROM orders''')\n",
        "            return cursor.fetchall()\n",
        "\n",
        "    def is_valid_fuel_type(self, fuel_type):\n",
        "        return fuel_type.lower() in ['leaded', 'unleaded', 'diesel']\n",
        "\n",
        "    def is_valid_gallons(self, gallons):\n",
        "        try:\n",
        "            float_gallons = float(gallons)\n",
        "            return float_gallons > 0\n",
        "        except ValueError:\n",
        "            return False\n",
        "    def is_valid_name(self, name):\n",
        "        name_pattern = r'^[A-Za-z\\s\\-]+$'\n",
        "        return re.match(name_pattern, name)\n",
        "\n",
        "    def is_valid_email(self, email):\n",
        "        email_pattern = r'^[\\w\\.-]+@[\\w\\.-]+\\.\\w+$'\n",
        "        return re.match(email_pattern, email)\n",
        "\n",
        "    def is_valid_phone(self, phone):\n",
        "        phone_pattern = r'^\\+?\\d{10}$'\n",
        "        return re.match(phone_pattern, phone)\n",
        "\n",
        "    def is_valid_payment_type(self, payment_type):\n",
        "        return payment_type.lower() in ['cash', 'credit', 'debit']\n",
        "\n",
        "    \n",
        "\n",
        "if __name__ == '__main__':\n",
        "    order = Order()\n",
        "\n",
        "    # Validate fuel type input\n",
        "    while True:\n",
        "        fuel_type = input(\"Enter fuel type (Leaded, Unleaded, Diesel): \")\n",
        "        if order.is_valid_fuel_type(fuel_type):\n",
        "            break\n",
        "        print(\"Invalid fuel type. Please enter a valid fuel type.\")\n",
        "\n",
        "    # Validate gallons input\n",
        "    while True:\n",
        "        gallons = input(\"Enter gallons of fuel: \")\n",
        "        if order.is_valid_gallons(gallons):\n",
        "            gallons = float(gallons)\n",
        "            break\n",
        "        print(\"Invalid gallons. Please enter a positive number.\")\n",
        "\n",
        "    # Validate first name input\n",
        "    while True:\n",
        "        first_name = input(\"Enter first name: \")\n",
        "        if order.is_valid_name(first_name):\n",
        "            break\n",
        "        print(\"Invalid first name. Please enter a valid first name.\")\n",
        "\n",
        "    # Validate last name input\n",
        "    while True:\n",
        "        last_name = input(\"Enter last name: \")\n",
        "        if order.is_valid_name(last_name):\n",
        "           break\n",
        "        print(\"Invalid Last name. Please enter a valid last name.\")\n",
        "  # Validate email input\n",
        "    while True:\n",
        "        email = input(\"Enter Email: \")\n",
        "        if order.is_valid_email(email):\n",
        "           break\n",
        "        print(\"Invalid Email address. Please enter a valid email.\")\n",
        "   # Validate phone number input\n",
        "    while True:\n",
        "        phone_number = input(\"Phone Number: \")\n",
        "        if order.is_valid_phone(phone_number):\n",
        "           break\n",
        "        print(\"Invalid Phone number. Please enter a valid phone number.\")\n",
        "   \n",
        "    while True:\n",
        "      payment_type = input(\"Enter payment type (cash, credit, debit): \")\n",
        "      if order.is_valid_payment_type(payment_type):\n",
        "        break\n",
        "      print(\"Invalid payment type. Please enter a valid one based off of the given options\")\n",
        "    order.add_order(fuel_type, gallons, first_name, last_name, email, phone_number, payment_type)\n",
        "\n",
        "    print(\"All orders in the database:\")\n",
        "    for o in order.get_all_orders():\n",
        "        print(o)\n",
        "    \n"
      ],
      "metadata": {
        "id": "fjXPSPMuGRmf"
      },
      "execution_count": null,
      "outputs": []
    },
    {
      "cell_type": "markdown",
      "source": [
        "# Trucking Class"
      ],
      "metadata": {
        "id": "gJQ6vgjsDKs7"
      }
    },
    {
      "cell_type": "code",
      "source": [
        "from geopy.geocoders import Nominatim\n",
        "import math\n",
        "\n",
        "class Location:\n",
        "    def __init__(self, address):\n",
        "        self.address = address\n",
        "        self.lat, self.lon = self.get_coordinates()\n",
        "    \n",
        "    def get_coordinates(self):\n",
        "        geolocator = Nominatim(user_agent=\"my-application\")\n",
        "        location = geolocator.geocode(self.address)\n",
        "        if location:\n",
        "            return location.latitude, location.longitude\n",
        "        else:\n",
        "            return None, None\n",
        "\n",
        "class Trucking:\n",
        "    def __init__(self, shipment_size, destination):\n",
        "        self.shipment_size = shipment_size\n",
        "        self.destination = destination\n",
        "    \n",
        "    def fuel_needed(self):\n",
        "        # calculate fuel needed to reach destination from Houston, Texas\n",
        "        fuel_per_mile = 6.5 # gallons per mile, for example\n",
        "        distance = self.distance_to_destination()\n",
        "        fuel_needed = fuel_per_mile * distance\n",
        "        return fuel_needed\n",
        "    \n",
        "    def distance_to_destination(self):\n",
        "        # calculate distance from Houston, Texas to destination\n",
        "        # using the Haversine formula\n",
        "        lat1, lon1 = 29.7604, -95.3698 # Houston, Texas coordinates\n",
        "        lat2, lon2 = self.destination.lat, self.destination.lon # destination coordinates\n",
        "        R = 3958.8 # radius of Earth in miles\n",
        "        phi1 = math.radians(lat1)\n",
        "        phi2 = math.radians(lat2)\n",
        "        delta_phi = math.radians(lat2 - lat1)\n",
        "        delta_lambda = math.radians(lon2 - lon1)\n",
        "        a = math.sin(delta_phi/2)**2 + math.cos(phi1)*math.cos(phi2)*math.sin(delta_lambda/2)**2\n",
        "        c = 2*math.atan2(math.sqrt(a), math.sqrt(1-a))\n",
        "        distance = R * c\n",
        "        return distance\n",
        "\n",
        "def destination(address, shipment_size):\n",
        "    location = Location(address)\n",
        "    truck = Trucking(shipment_size=shipment_size, destination=location)\n",
        "    distance = truck.distance_to_destination()\n",
        "    return distance\n"
      ],
      "metadata": {
        "id": "ORNkkNoeDN-_"
      },
      "execution_count": 2,
      "outputs": []
    },
    {
      "cell_type": "code",
      "execution_count": null,
      "metadata": {
        "id": "kffRizoiDF0Z"
      },
      "outputs": [],
      "source": [
        "#Figure out how to track the distance where it won't cause errors.\n",
        "distance = destination(\"Alliance Fuel Oil Co, 2700 Loch Raven Rd, Baltimore, MD 21218\", 1000)\n",
        "print(distance) # prints the estimated distance in miles from Houston, Texas to San Francisco, CA for a shipment size of 1000 pounds\n"
      ]
    },
    {
      "cell_type": "code",
      "source": [
        "!pip install geopy"
      ],
      "metadata": {
        "colab": {
          "base_uri": "https://localhost:8080/"
        },
        "id": "7uZ-4W7VTp1J",
        "outputId": "407974fe-076a-4a9d-ac96-dfe333266436"
      },
      "execution_count": 4,
      "outputs": [
        {
          "output_type": "stream",
          "name": "stdout",
          "text": [
            "Looking in indexes: https://pypi.org/simple, https://us-python.pkg.dev/colab-wheels/public/simple/\n",
            "Requirement already satisfied: geopy in /usr/local/lib/python3.9/dist-packages (2.3.0)\n",
            "Requirement already satisfied: geographiclib<3,>=1.52 in /usr/local/lib/python3.9/dist-packages (from geopy) (2.0)\n"
          ]
        }
      ]
    },
    {
      "cell_type": "code",
      "source": [
        "import requests\n",
        "from geopy import distance\n",
        "from geopy.geocoders import Nominatim\n",
        "\n",
        "class Trucking:\n",
        "    def __init__(self, user_agent):\n",
        "        self.user_agent = user_agent\n",
        "        self.geolocator = Nominatim(user_agent=self.user_agent)\n",
        "        self.starting_location = \"University of Houston, Houston, TX\"\n",
        "\n",
        "    def get_distance(self, destination_address):\n",
        "        starting_point = self.geolocator.geocode(self.starting_location)\n",
        "        destination_point = self.geolocator.geocode(destination_address)\n",
        "\n",
        "        if starting_point and destination_point:\n",
        "            return distance.distance((starting_point.latitude, starting_point.longitude),\n",
        "                                      (destination_point.latitude, destination_point.longitude)).miles\n",
        "        else:\n",
        "            return None\n",
        "\n",
        "    def is_valid_address(self, address):\n",
        "        geocode_result = self.geolocator.geocode(address)\n",
        "        return geocode_result is not None\n",
        "\n",
        "if __name__ == \"__main__\":\n",
        "    # Replace \"YourAppName\" with your actual application name\n",
        "    user_agent = \"YourAppName/1.0\"\n",
        "    trucking = Trucking(user_agent)\n",
        "\n",
        "    while True:\n",
        "        destination_address = input(\"Enter the destination address: \")\n",
        "\n",
        "        if trucking.is_valid_address(destination_address):\n",
        "            break\n",
        "        else:\n",
        "            print(\"Invalid address. Please enter a valid address.\")\n",
        "\n",
        "    distance_in_miles = trucking.get_distance(destination_address)\n",
        "\n",
        "    if distance_in_miles:\n",
        "        print(f\"The distance from the University of Houston to the destination is {distance_in_miles:.2f} miles.\")\n",
        "    else:\n",
        "        print(\"Failed to calculate the distance. Please check the input address.\")\n"
      ],
      "metadata": {
        "colab": {
          "base_uri": "https://localhost:8080/"
        },
        "id": "8dT9J5pyTtk0",
        "outputId": "359951f7-cdea-4fe7-ac8e-31f902fa653a"
      },
      "execution_count": null,
      "outputs": [
        {
          "output_type": "stream",
          "name": "stdout",
          "text": [
            "Enter the destination address: Alliance Fuel Oil Co, 2700 Loch Raven Rd, Baltimore, MD\n",
            "Invalid address. Please enter a valid address.\n",
            "Enter the destination address: Alliance Fuel Oil Co, 2700 Loch Raven Rd, Baltimore, MD 21218\n",
            "Invalid address. Please enter a valid address.\n"
          ]
        }
      ]
    }
  ]
}